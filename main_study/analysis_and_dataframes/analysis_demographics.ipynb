{
 "cells": [
  {
   "cell_type": "markdown",
   "metadata": {},
   "source": [
    "Here the anaylsis of the demographic data is happening"
   ]
  },
  {
   "cell_type": "code",
   "execution_count": 5,
   "metadata": {},
   "outputs": [],
   "source": [
    "import pandas as pd\n",
    "import numpy as np\n",
    "import pingouin as pg"
   ]
  },
  {
   "cell_type": "code",
   "execution_count": 6,
   "metadata": {},
   "outputs": [
    {
     "name": "stdout",
     "output_type": "stream",
     "text": [
      "   ID    gender  age                  1                  2  \\\n",
      "0   1  weiblich   27        stimmt eher        stimmt eher   \n",
      "1   2  weiblich   28  stimmt weitgehend        stimmt eher   \n",
      "2   3  weiblich   24  stimmt weitgehend  stimmt weitgehend   \n",
      "3   4  männlich   23        stimmt eher        stimmt eher   \n",
      "4   5  weiblich   30        stimmt eher  stimmt weitgehend   \n",
      "\n",
      "                         3                  4            5  \\\n",
      "0              stimmt eher  stimmt eher nicht  stimmt eher   \n",
      "1        stimmt eher nicht  stimmt eher nicht  stimmt eher   \n",
      "2  stimmt weitgehend nicht  stimmt eher nicht  stimmt eher   \n",
      "3  stimmt weitgehend nicht  stimmt eher nicht  stimmt eher   \n",
      "4        stimmt eher nicht  stimmt weitgehend  stimmt eher   \n",
      "\n",
      "                         6                  7                  8  \\\n",
      "0        stimmt weitgehend  stimmt eher nicht  stimmt eher nicht   \n",
      "1  stimmt weitgehend nicht        stimmt eher  stimmt eher nicht   \n",
      "2  stimmt weitgehend nicht  stimmt eher nicht  stimmt eher nicht   \n",
      "3        stimmt eher nicht  stimmt eher nicht        stimmt eher   \n",
      "4  stimmt weitgehend nicht  stimmt eher nicht  stimmt eher nicht   \n",
      "\n",
      "                   9  \n",
      "0        stimmt eher  \n",
      "1        stimmt eher  \n",
      "2  stimmt weitgehend  \n",
      "3        stimmt eher  \n",
      "4        stimmt eher  \n"
     ]
    }
   ],
   "source": [
    "df_demographics = pd.read_csv(\"foot_mapper/main_study/analysis_and_dataframes/dataframes/mainstudy_demographics.csv\")\n",
    "\n",
    "print(df_demographics.head())"
   ]
  },
  {
   "cell_type": "markdown",
   "metadata": {},
   "source": [
    "change answers into values"
   ]
  },
  {
   "cell_type": "code",
   "execution_count": 7,
   "metadata": {},
   "outputs": [
    {
     "name": "stdout",
     "output_type": "stream",
     "text": [
      "    ID    gender  age                  1                  2  \\\n",
      "0    1  weiblich   27        stimmt eher        stimmt eher   \n",
      "1    2  weiblich   28  stimmt weitgehend        stimmt eher   \n",
      "2    3  weiblich   24  stimmt weitgehend  stimmt weitgehend   \n",
      "3    4  männlich   23        stimmt eher        stimmt eher   \n",
      "4    5  weiblich   30        stimmt eher  stimmt weitgehend   \n",
      "5    6  weiblich   34  stimmt weitgehend  stimmt weitgehend   \n",
      "6    7  männlich   23  stimmt weitgehend  stimmt weitgehend   \n",
      "7    8  männlich   31      stimmt völlig      stimmt völlig   \n",
      "8    9  männlich   35  stimmt weitgehend  stimmt weitgehend   \n",
      "9   10  weiblich   25      stimmt völlig      stimmt völlig   \n",
      "10  11  weiblich   21      stimmt völlig      stimmt völlig   \n",
      "11  12  weiblich   27  stimmt weitgehend  stimmt weitgehend   \n",
      "\n",
      "                          3                  4                  5  \\\n",
      "0               stimmt eher  stimmt eher nicht        stimmt eher   \n",
      "1         stimmt eher nicht  stimmt eher nicht        stimmt eher   \n",
      "2   stimmt weitgehend nicht  stimmt eher nicht        stimmt eher   \n",
      "3   stimmt weitgehend nicht  stimmt eher nicht        stimmt eher   \n",
      "4         stimmt eher nicht  stimmt weitgehend        stimmt eher   \n",
      "5   stimmt weitgehend nicht        stimmt eher        stimmt eher   \n",
      "6         stimmt eher nicht        stimmt eher        stimmt eher   \n",
      "7         stimmt eher nicht  stimmt weitgehend  stimmt weitgehend   \n",
      "8         stimmt eher nicht  stimmt weitgehend        stimmt eher   \n",
      "9   stimmt weitgehend nicht      stimmt völlig      stimmt völlig   \n",
      "10        stimmt eher nicht  stimmt weitgehend      stimmt völlig   \n",
      "11              stimmt eher  stimmt weitgehend        stimmt eher   \n",
      "\n",
      "                          6                  7  ...                  9  \\\n",
      "0         stimmt weitgehend  stimmt eher nicht  ...        stimmt eher   \n",
      "1   stimmt weitgehend nicht        stimmt eher  ...        stimmt eher   \n",
      "2   stimmt weitgehend nicht  stimmt eher nicht  ...  stimmt weitgehend   \n",
      "3         stimmt eher nicht  stimmt eher nicht  ...        stimmt eher   \n",
      "4   stimmt weitgehend nicht  stimmt eher nicht  ...        stimmt eher   \n",
      "5         stimmt eher nicht  stimmt eher nicht  ...  stimmt weitgehend   \n",
      "6               stimmt eher  stimmt eher nicht  ...        stimmt eher   \n",
      "7               stimmt eher  stimmt weitgehend  ...  stimmt weitgehend   \n",
      "8         stimmt eher nicht        stimmt eher  ...  stimmt eher nicht   \n",
      "9   stimmt weitgehend nicht  stimmt weitgehend  ...  stimmt weitgehend   \n",
      "10        stimmt eher nicht        stimmt eher  ...      stimmt völlig   \n",
      "11              stimmt eher        stimmt eher  ...        stimmt eher   \n",
      "\n",
      "   1_numeric  2_numeric  3_numeric  4_numeric  5_numeric  6_numeric  \\\n",
      "0          4          4          4          3          4          5   \n",
      "1          5          4          3          3          4          2   \n",
      "2          5          5          2          3          4          2   \n",
      "3          4          4          2          3          4          3   \n",
      "4          4          5          3          5          4          2   \n",
      "5          5          5          2          4          4          3   \n",
      "6          5          5          3          4          4          4   \n",
      "7          6          6          3          5          5          4   \n",
      "8          5          5          3          5          4          3   \n",
      "9          6          6          2          6          6          2   \n",
      "10         6          6          3          5          6          3   \n",
      "11         5          5          4          5          4          4   \n",
      "\n",
      "    7_numeric  8_numeric  9_numeric  \n",
      "0           3          3          4  \n",
      "1           4          3          4  \n",
      "2           3          3          5  \n",
      "3           3          4          4  \n",
      "4           3          3          4  \n",
      "5           3          3          5  \n",
      "6           3          3          4  \n",
      "7           5          3          5  \n",
      "8           4          3          3  \n",
      "9           5          2          5  \n",
      "10          4          2          6  \n",
      "11          4          2          4  \n",
      "\n",
      "[12 rows x 21 columns]\n"
     ]
    }
   ],
   "source": [
    "mapping = {\n",
    "    \"stimmt gar nicht\": 1,\n",
    "    \"stimmt weitgehend nicht\": 2,\n",
    "    \"stimmt eher nicht\": 3,\n",
    "    \"stimmt eher\": 4,\n",
    "    \"stimmt weitgehend\": 5,\n",
    "    \"stimmt völlig\": 6\n",
    "}\n",
    "\n",
    "columns = ['1', '2', '3', '4', '5', '6', '7', '8', '9']\n",
    "\n",
    "# Wende das Mapping auf jede Spalte in der Liste an\n",
    "for column in columns:\n",
    "    df_demographics[column + '_numeric'] = df_demographics[column].map(mapping)\n",
    "\n",
    "# Ergebnis anzeigen\n",
    "print(df_demographics)"
   ]
  },
  {
   "cell_type": "markdown",
   "metadata": {},
   "source": [
    "Inverting negative statements"
   ]
  },
  {
   "cell_type": "code",
   "execution_count": 8,
   "metadata": {},
   "outputs": [
    {
     "name": "stdout",
     "output_type": "stream",
     "text": [
      "    ID    gender  age                  1                  2  \\\n",
      "0    1  weiblich   27        stimmt eher        stimmt eher   \n",
      "1    2  weiblich   28  stimmt weitgehend        stimmt eher   \n",
      "2    3  weiblich   24  stimmt weitgehend  stimmt weitgehend   \n",
      "3    4  männlich   23        stimmt eher        stimmt eher   \n",
      "4    5  weiblich   30        stimmt eher  stimmt weitgehend   \n",
      "5    6  weiblich   34  stimmt weitgehend  stimmt weitgehend   \n",
      "6    7  männlich   23  stimmt weitgehend  stimmt weitgehend   \n",
      "7    8  männlich   31      stimmt völlig      stimmt völlig   \n",
      "8    9  männlich   35  stimmt weitgehend  stimmt weitgehend   \n",
      "9   10  weiblich   25      stimmt völlig      stimmt völlig   \n",
      "10  11  weiblich   21      stimmt völlig      stimmt völlig   \n",
      "11  12  weiblich   27  stimmt weitgehend  stimmt weitgehend   \n",
      "\n",
      "                          3                  4                  5  \\\n",
      "0               stimmt eher  stimmt eher nicht        stimmt eher   \n",
      "1         stimmt eher nicht  stimmt eher nicht        stimmt eher   \n",
      "2   stimmt weitgehend nicht  stimmt eher nicht        stimmt eher   \n",
      "3   stimmt weitgehend nicht  stimmt eher nicht        stimmt eher   \n",
      "4         stimmt eher nicht  stimmt weitgehend        stimmt eher   \n",
      "5   stimmt weitgehend nicht        stimmt eher        stimmt eher   \n",
      "6         stimmt eher nicht        stimmt eher        stimmt eher   \n",
      "7         stimmt eher nicht  stimmt weitgehend  stimmt weitgehend   \n",
      "8         stimmt eher nicht  stimmt weitgehend        stimmt eher   \n",
      "9   stimmt weitgehend nicht      stimmt völlig      stimmt völlig   \n",
      "10        stimmt eher nicht  stimmt weitgehend      stimmt völlig   \n",
      "11              stimmt eher  stimmt weitgehend        stimmt eher   \n",
      "\n",
      "                          6                  7  ... 3_numeric 4_numeric  \\\n",
      "0         stimmt weitgehend  stimmt eher nicht  ...         4         3   \n",
      "1   stimmt weitgehend nicht        stimmt eher  ...         3         3   \n",
      "2   stimmt weitgehend nicht  stimmt eher nicht  ...         2         3   \n",
      "3         stimmt eher nicht  stimmt eher nicht  ...         2         3   \n",
      "4   stimmt weitgehend nicht  stimmt eher nicht  ...         3         5   \n",
      "5         stimmt eher nicht  stimmt eher nicht  ...         2         4   \n",
      "6               stimmt eher  stimmt eher nicht  ...         3         4   \n",
      "7               stimmt eher  stimmt weitgehend  ...         3         5   \n",
      "8         stimmt eher nicht        stimmt eher  ...         3         5   \n",
      "9   stimmt weitgehend nicht  stimmt weitgehend  ...         2         6   \n",
      "10        stimmt eher nicht        stimmt eher  ...         3         5   \n",
      "11              stimmt eher        stimmt eher  ...         4         5   \n",
      "\n",
      "    5_numeric  6_numeric  7_numeric  8_numeric  9_numeric  3_numeric_inverted  \\\n",
      "0           4          5          3          3          4                   3   \n",
      "1           4          2          4          3          4                   4   \n",
      "2           4          2          3          3          5                   5   \n",
      "3           4          3          3          4          4                   5   \n",
      "4           4          2          3          3          4                   4   \n",
      "5           4          3          3          3          5                   5   \n",
      "6           4          4          3          3          4                   4   \n",
      "7           5          4          5          3          5                   4   \n",
      "8           4          3          4          3          3                   4   \n",
      "9           6          2          5          2          5                   5   \n",
      "10          6          3          4          2          6                   4   \n",
      "11          4          4          4          2          4                   3   \n",
      "\n",
      "    6_numeric_inverted  8_numeric_inverted  \n",
      "0                    2                   4  \n",
      "1                    5                   4  \n",
      "2                    5                   4  \n",
      "3                    4                   3  \n",
      "4                    5                   4  \n",
      "5                    4                   4  \n",
      "6                    3                   4  \n",
      "7                    3                   4  \n",
      "8                    4                   4  \n",
      "9                    5                   5  \n",
      "10                   4                   5  \n",
      "11                   3                   5  \n",
      "\n",
      "[12 rows x 24 columns]\n"
     ]
    }
   ],
   "source": [
    "columns_to_invert = ['3_numeric', '6_numeric', '8_numeric']\n",
    "\n",
    "for column in columns_to_invert:\n",
    "    df_demographics[column + '_inverted'] = 7 - df_demographics[column]\n",
    "    \n",
    "print(df_demographics)\n"
   ]
  },
  {
   "cell_type": "code",
   "execution_count": 9,
   "metadata": {},
   "outputs": [
    {
     "name": "stdout",
     "output_type": "stream",
     "text": [
      "mean:\n",
      " 0     3.44\n",
      "1     4.11\n",
      "2     4.33\n",
      "3     3.78\n",
      "4     4.22\n",
      "5     4.33\n",
      "6     4.00\n",
      "7     4.78\n",
      "8     4.22\n",
      "9     5.44\n",
      "10    5.11\n",
      "11    4.22\n",
      "Name: mean, dtype: float64\n",
      "mean_all:\n",
      " 4.33\n",
      "standard_deviation:\n",
      " 0     0.73\n",
      "1     0.60\n",
      "2     0.87\n",
      "3     0.67\n",
      "4     0.67\n",
      "5     0.71\n",
      "6     0.71\n",
      "7     0.97\n",
      "8     0.67\n",
      "9     0.53\n",
      "10    0.93\n",
      "11    0.83\n",
      "Name: standard_deviation, dtype: float64\n",
      "standard_deviation_all:\n",
      " 0.13\n",
      "Cronbach's Alpha: 0.85\n"
     ]
    }
   ],
   "source": [
    "ati_columns = ['1_numeric', '2_numeric', '3_numeric_inverted', \n",
    "           '4_numeric', '5_numeric', '6_numeric_inverted', \n",
    "           '7_numeric', '8_numeric_inverted', '9_numeric']\n",
    "\n",
    "df_demographics['mean'] = df_demographics[ati_columns].mean(axis=1).round(2)\n",
    "mean_all= df_demographics['mean'].mean().round(2)\n",
    "\n",
    "df_demographics['standard_deviation'] = df_demographics[ati_columns].std(axis=1).round(2)\n",
    "standard_deviation_all = df_demographics['standard_deviation'].std().round(2)\n",
    "\n",
    "cronbach_alpha, _ = pg.cronbach_alpha(data=df_demographics[ati_columns])\n",
    "\n",
    "print(\"mean:\\n\", df_demographics['mean'])\n",
    "print(\"mean_all:\\n\", mean_all)\n",
    "print(\"standard_deviation:\\n\", df_demographics['standard_deviation'])\n",
    "print(\"standard_deviation_all:\\n\", standard_deviation_all)\n",
    "print(f\"Cronbach's Alpha: {cronbach_alpha:.2f}\")"
   ]
  },
  {
   "cell_type": "code",
   "execution_count": 10,
   "metadata": {},
   "outputs": [
    {
     "name": "stdout",
     "output_type": "stream",
     "text": [
      "4.27\n"
     ]
    }
   ],
   "source": [
    "values = df_demographics['age']\n",
    "\n",
    "values_sd = np.std(values).round(2)\n",
    "\n",
    "print(values_sd)"
   ]
  },
  {
   "cell_type": "markdown",
   "metadata": {},
   "source": []
  },
  {
   "cell_type": "markdown",
   "metadata": {},
   "source": []
  }
 ],
 "metadata": {
  "kernelspec": {
   "display_name": "Python 3",
   "language": "python",
   "name": "python3"
  },
  "language_info": {
   "codemirror_mode": {
    "name": "ipython",
    "version": 3
   },
   "file_extension": ".py",
   "mimetype": "text/x-python",
   "name": "python",
   "nbconvert_exporter": "python",
   "pygments_lexer": "ipython3",
   "version": "3.10.0"
  }
 },
 "nbformat": 4,
 "nbformat_minor": 2
}

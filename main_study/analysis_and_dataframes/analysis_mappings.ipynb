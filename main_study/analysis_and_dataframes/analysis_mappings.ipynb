{
 "cells": [
  {
   "cell_type": "markdown",
   "metadata": {},
   "source": [
    "mappings analysieren"
   ]
  },
  {
   "cell_type": "code",
   "execution_count": 2,
   "metadata": {},
   "outputs": [],
   "source": [
    "import pandas as pd"
   ]
  },
  {
   "cell_type": "code",
   "execution_count": 3,
   "metadata": {},
   "outputs": [],
   "source": [
    "csv_mappings = \"C:/Users/Harry/Documents/GitHub/MasterThesis/Programming/analysis/dataframes/df_mappings.csv\"\n",
    "\n",
    "df_mappings = pd.read_csv(csv_mappings)"
   ]
  },
  {
   "cell_type": "code",
   "execution_count": 9,
   "metadata": {},
   "outputs": [
    {
     "data": {
      "text/plain": [
       "618"
      ]
     },
     "metadata": {},
     "output_type": "display_data"
    },
    {
     "data": {
      "text/plain": [
       "206.0"
      ]
     },
     "metadata": {},
     "output_type": "display_data"
    },
    {
     "data": {
      "text/plain": [
       "user_id\n",
       "1     18\n",
       "2     78\n",
       "3     66\n",
       "4     27\n",
       "5     42\n",
       "6     51\n",
       "7     75\n",
       "8     96\n",
       "9     33\n",
       "10    30\n",
       "11    24\n",
       "12    78\n",
       "dtype: int64"
      ]
     },
     "metadata": {},
     "output_type": "display_data"
    },
    {
     "data": {
      "text/plain": [
       "user_id\n",
       "1      6.0\n",
       "2     26.0\n",
       "3     22.0\n",
       "4      9.0\n",
       "5     14.0\n",
       "6     17.0\n",
       "7     25.0\n",
       "8     32.0\n",
       "9     11.0\n",
       "10    10.0\n",
       "11     8.0\n",
       "12    26.0\n",
       "dtype: float64"
      ]
     },
     "metadata": {},
     "output_type": "display_data"
    }
   ],
   "source": [
    "mappings_count_all = len(df_mappings)\n",
    "mappings_count = mappings_count_all/ 3\n",
    "mappings_count_per_user_all = df_mappings.groupby('user_id').size()\n",
    "mappings_count_per_user = mappings_count_per_user_all /3\n",
    "\n",
    "display(mappings_count_all)\n",
    "display(mappings_count)\n",
    "display(mappings_count_per_user_all)\n",
    "display(mappings_count_per_user)"
   ]
  },
  {
   "cell_type": "code",
   "execution_count": 6,
   "metadata": {},
   "outputs": [
    {
     "name": "stdout",
     "output_type": "stream",
     "text": [
      "user_id\n",
      "1      6\n",
      "2     20\n",
      "3     17\n",
      "4      5\n",
      "5      3\n",
      "6     11\n",
      "7     16\n",
      "8     19\n",
      "9      7\n",
      "10     8\n",
      "11     6\n",
      "12    15\n",
      "Name: unique_combinations_per_user, dtype: int64\n",
      "129\n"
     ]
    },
    {
     "data": {
      "text/html": [
       "<div>\n",
       "<style scoped>\n",
       "    .dataframe tbody tr th:only-of-type {\n",
       "        vertical-align: middle;\n",
       "    }\n",
       "\n",
       "    .dataframe tbody tr th {\n",
       "        vertical-align: top;\n",
       "    }\n",
       "\n",
       "    .dataframe thead th {\n",
       "        text-align: right;\n",
       "    }\n",
       "</style>\n",
       "<table border=\"1\" class=\"dataframe\">\n",
       "  <thead>\n",
       "    <tr style=\"text-align: right;\">\n",
       "      <th>key</th>\n",
       "      <th>user_id</th>\n",
       "      <th>timestamp</th>\n",
       "      <th>group</th>\n",
       "      <th>input_1</th>\n",
       "      <th>input_2</th>\n",
       "      <th>input_3</th>\n",
       "      <th>mapping_combination</th>\n",
       "    </tr>\n",
       "  </thead>\n",
       "  <tbody>\n",
       "    <tr>\n",
       "      <th>0</th>\n",
       "      <td>1</td>\n",
       "      <td>2024-09-30 08:58:41</td>\n",
       "      <td>0</td>\n",
       "      <td>Alt+Tab</td>\n",
       "      <td>NaN</td>\n",
       "      <td>NaN</td>\n",
       "      <td>(Alt+Tab, nan, nan)</td>\n",
       "    </tr>\n",
       "    <tr>\n",
       "      <th>1</th>\n",
       "      <td>1</td>\n",
       "      <td>2024-09-30 08:59:39</td>\n",
       "      <td>0</td>\n",
       "      <td>Alt+Tab</td>\n",
       "      <td>print</td>\n",
       "      <td>NaN</td>\n",
       "      <td>(Alt+Tab, print, nan)</td>\n",
       "    </tr>\n",
       "    <tr>\n",
       "      <th>2</th>\n",
       "      <td>1</td>\n",
       "      <td>2024-09-30 09:00:22</td>\n",
       "      <td>0</td>\n",
       "      <td>Alt+Tab</td>\n",
       "      <td>win+Left</td>\n",
       "      <td>NaN</td>\n",
       "      <td>(Alt+Tab, win+Left, nan)</td>\n",
       "    </tr>\n",
       "    <tr>\n",
       "      <th>3</th>\n",
       "      <td>1</td>\n",
       "      <td>2024-09-30 09:00:55</td>\n",
       "      <td>0</td>\n",
       "      <td>Alt+Tab</td>\n",
       "      <td>win+Left</td>\n",
       "      <td>win+Right</td>\n",
       "      <td>(Alt+Tab, win+Left, win+Right)</td>\n",
       "    </tr>\n",
       "    <tr>\n",
       "      <th>4</th>\n",
       "      <td>1</td>\n",
       "      <td>2024-10-01 16:23:11</td>\n",
       "      <td>0</td>\n",
       "      <td>Alt+Tab</td>\n",
       "      <td>Ctrl+t</td>\n",
       "      <td>win+Right</td>\n",
       "      <td>(Alt+Tab, Ctrl+t, win+Right)</td>\n",
       "    </tr>\n",
       "    <tr>\n",
       "      <th>...</th>\n",
       "      <td>...</td>\n",
       "      <td>...</td>\n",
       "      <td>...</td>\n",
       "      <td>...</td>\n",
       "      <td>...</td>\n",
       "      <td>...</td>\n",
       "      <td>...</td>\n",
       "    </tr>\n",
       "    <tr>\n",
       "      <th>95</th>\n",
       "      <td>7</td>\n",
       "      <td>2024-10-14 12:05:06</td>\n",
       "      <td>0</td>\n",
       "      <td>Alt+Tab</td>\n",
       "      <td>Ctrl+Tab</td>\n",
       "      <td>Enter</td>\n",
       "      <td>(Alt+Tab, Ctrl+Tab, Enter)</td>\n",
       "    </tr>\n",
       "    <tr>\n",
       "      <th>96</th>\n",
       "      <td>7</td>\n",
       "      <td>2024-10-15 10:33:55</td>\n",
       "      <td>0</td>\n",
       "      <td>Alt+Tab</td>\n",
       "      <td>NaN</td>\n",
       "      <td>fn</td>\n",
       "      <td>(Alt+Tab, nan, fn)</td>\n",
       "    </tr>\n",
       "    <tr>\n",
       "      <th>97</th>\n",
       "      <td>7</td>\n",
       "      <td>2024-10-15 10:36:03</td>\n",
       "      <td>0</td>\n",
       "      <td>Alt+Tab</td>\n",
       "      <td>NaN</td>\n",
       "      <td>&gt;</td>\n",
       "      <td>(Alt+Tab, nan, &gt;)</td>\n",
       "    </tr>\n",
       "    <tr>\n",
       "      <th>98</th>\n",
       "      <td>7</td>\n",
       "      <td>2024-10-15 10:38:12</td>\n",
       "      <td>0</td>\n",
       "      <td>Alt+Tab</td>\n",
       "      <td>win+Tab</td>\n",
       "      <td>&gt;</td>\n",
       "      <td>(Alt+Tab, win+Tab, &gt;)</td>\n",
       "    </tr>\n",
       "    <tr>\n",
       "      <th>99</th>\n",
       "      <td>7</td>\n",
       "      <td>2024-10-15 10:46:25</td>\n",
       "      <td>0</td>\n",
       "      <td>Alt+Tab</td>\n",
       "      <td>a</td>\n",
       "      <td>n</td>\n",
       "      <td>(Alt+Tab, a, n)</td>\n",
       "    </tr>\n",
       "  </tbody>\n",
       "</table>\n",
       "<p>100 rows × 7 columns</p>\n",
       "</div>"
      ],
      "text/plain": [
       "key  user_id            timestamp  group  input_1   input_2    input_3  \\\n",
       "0          1  2024-09-30 08:58:41      0  Alt+Tab       NaN        NaN   \n",
       "1          1  2024-09-30 08:59:39      0  Alt+Tab     print        NaN   \n",
       "2          1  2024-09-30 09:00:22      0  Alt+Tab  win+Left        NaN   \n",
       "3          1  2024-09-30 09:00:55      0  Alt+Tab  win+Left  win+Right   \n",
       "4          1  2024-10-01 16:23:11      0  Alt+Tab    Ctrl+t  win+Right   \n",
       "..       ...                  ...    ...      ...       ...        ...   \n",
       "95         7  2024-10-14 12:05:06      0  Alt+Tab  Ctrl+Tab      Enter   \n",
       "96         7  2024-10-15 10:33:55      0  Alt+Tab       NaN         fn   \n",
       "97         7  2024-10-15 10:36:03      0  Alt+Tab       NaN          >   \n",
       "98         7  2024-10-15 10:38:12      0  Alt+Tab   win+Tab          >   \n",
       "99         7  2024-10-15 10:46:25      0  Alt+Tab         a          n   \n",
       "\n",
       "key             mapping_combination  \n",
       "0               (Alt+Tab, nan, nan)  \n",
       "1             (Alt+Tab, print, nan)  \n",
       "2          (Alt+Tab, win+Left, nan)  \n",
       "3    (Alt+Tab, win+Left, win+Right)  \n",
       "4      (Alt+Tab, Ctrl+t, win+Right)  \n",
       "..                              ...  \n",
       "95       (Alt+Tab, Ctrl+Tab, Enter)  \n",
       "96               (Alt+Tab, nan, fn)  \n",
       "97                (Alt+Tab, nan, >)  \n",
       "98            (Alt+Tab, win+Tab, >)  \n",
       "99                  (Alt+Tab, a, n)  \n",
       "\n",
       "[100 rows x 7 columns]"
      ]
     },
     "metadata": {},
     "output_type": "display_data"
    }
   ],
   "source": [
    "df_mappings['group'] = df_mappings.groupby(['user_id', 'timestamp']).cumcount() // 3\n",
    "\n",
    "grouped = df_mappings.pivot_table(index=['user_id', 'timestamp', 'group'], columns='key', values='mapped_to', aggfunc='first').reset_index()\n",
    "\n",
    "grouped['mapping_combination'] = grouped[['input_1', 'input_2', 'input_3']].apply(tuple, axis=1)\n",
    "\n",
    "unique_combinations_per_user = grouped.groupby('user_id')['mapping_combination'].nunique().rename(\"unique_combinations_per_user\")\n",
    "\n",
    "total_unique_combinations = grouped['mapping_combination'].nunique()\n",
    "\n",
    "print(unique_combinations_per_user)\n",
    "print(total_unique_combinations)\n",
    "display(grouped.head(100))"
   ]
  },
  {
   "cell_type": "markdown",
   "metadata": {},
   "source": []
  },
  {
   "cell_type": "markdown",
   "metadata": {},
   "source": []
  }
 ],
 "metadata": {
  "kernelspec": {
   "display_name": "Python 3",
   "language": "python",
   "name": "python3"
  },
  "language_info": {
   "codemirror_mode": {
    "name": "ipython",
    "version": 3
   },
   "file_extension": ".py",
   "mimetype": "text/x-python",
   "name": "python",
   "nbconvert_exporter": "python",
   "pygments_lexer": "ipython3",
   "version": "3.10.0"
  }
 },
 "nbformat": 4,
 "nbformat_minor": 2
}
